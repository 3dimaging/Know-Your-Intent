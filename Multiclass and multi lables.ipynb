{
 "cells": [
  {
   "cell_type": "code",
   "execution_count": 7,
   "metadata": {},
   "outputs": [
    {
     "name": "stdout",
     "output_type": "stream",
     "text": [
      "Confusion matrix for label B:\n",
      "[[2 2]\n",
      " [2 1]]\n",
      "Confusion matrix for label T:\n",
      "[[1 2]\n",
      " [2 2]]\n",
      "Confusion matrix for label D:\n",
      "[[2 1]\n",
      " [2 2]]\n",
      "Confusion matrix for label C:\n",
      "[[5 2]\n",
      " [0 0]]\n"
     ]
    }
   ],
   "source": [
    "import numpy as np\n",
    "from sklearn.metrics import confusion_matrix\n",
    "# from sklearn.metrics import multilabel_confusion_matrix\n",
    "\n",
    "y_true = np.array([[1,0,0, 0], [1,0,0, 0], [1,0,0, 0], [0,1,1,0], [0,1,1,0], [0,1,1,0], [0,1,1,0]])\n",
    "y_pred = np.array([[1,0,0, 0], [0,1,0, 0], [0,1,1, 0], [1,0,1,0], [1,0,0,1], [0,1,0,1], [0,1,1,0]])\n",
    "\n",
    "labels = [\"B\", \"T\", \"D\", \"C\"]\n",
    "\n",
    "conf_mat_dict={}\n",
    "\n",
    "for label_col in range(len(labels)):\n",
    "    y_true_label = y_true[:, label_col]\n",
    "    y_pred_label = y_pred[:, label_col]\n",
    "    conf_mat_dict[labels[label_col]] = confusion_matrix(y_pred=y_pred_label, y_true=y_true_label)\n",
    "\n",
    "\n",
    "for label, matrix in conf_mat_dict.items():\n",
    "    print(\"Confusion matrix for label {}:\".format(label))\n",
    "    print(matrix)"
   ]
  },
  {
   "cell_type": "code",
   "execution_count": null,
   "metadata": {},
   "outputs": [],
   "source": []
  }
 ],
 "metadata": {
  "kernelspec": {
   "display_name": "Python 3",
   "language": "python",
   "name": "python3"
  },
  "language_info": {
   "codemirror_mode": {
    "name": "ipython",
    "version": 3
   },
   "file_extension": ".py",
   "mimetype": "text/x-python",
   "name": "python",
   "nbconvert_exporter": "python",
   "pygments_lexer": "ipython3",
   "version": "3.6.8"
  }
 },
 "nbformat": 4,
 "nbformat_minor": 2
}
